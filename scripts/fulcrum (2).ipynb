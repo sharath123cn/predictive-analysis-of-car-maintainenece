{
 "cells": [
  {
   "cell_type": "code",
   "execution_count": 171,
   "metadata": {},
   "outputs": [],
   "source": [
    "from keras import optimizers\n",
    "from keras.layers.core import Dense,Activation,Dropout\n",
    "from keras.layers.recurrent import LSTM\n",
    "from keras.models import Sequential\n",
    "import time\n",
    "from sklearn.model_selection import train_test_split \n",
    "from sklearn.preprocessing import MinMaxScaler\n",
    "from numpy import newaxis\n",
    "import numpy as np\n",
    "import pandas as pd\n",
    "import matplotlib.pyplot as plt\n",
    "import math"
   ]
  },
  {
   "cell_type": "code",
   "execution_count": 250,
   "metadata": {},
   "outputs": [],
   "source": [
    "def load_data(filename, seq_len, normalise_window):\n",
    "    f = open(filename, 'r').read()\n",
    "    data = f.split('\\n')\n",
    "\n",
    "    sequence_length = seq_len + 1\n",
    "    result = []\n",
    "    for index in range(len(data) - sequence_length):\n",
    "        result.append(data[index: index + sequence_length])\n",
    "    \n",
    "    if normalise_window:\n",
    "        result = normalise_windows(result)\n",
    "\n",
    "    result = np.array(result)\n",
    "\n",
    "    #row = round(0.9 * result.shape[0])\n",
    "    row = 192\n",
    "    train = result[:int(row), :]\n",
    "    np.random.shuffle(train)\n",
    "    x_train = train[:, :-1]\n",
    "    y_train = train[:, -1]\n",
    "    x_test = result[int(row):, :-1]\n",
    "    y_test = result[int(row):, -1]\n",
    "\n",
    "    x_train = np.reshape(x_train, (x_train.shape[0], x_train.shape[1], 1))\n",
    "    x_test = np.reshape(x_test, (x_test.shape[0], x_test.shape[1], 1))  \n",
    "\n",
    "    return [x_train, y_train, x_test, y_test]\n",
    "\n",
    "def normalise_windows(window_data):\n",
    "    normalised_data = []\n",
    "    for window in window_data:\n",
    "        normalised_window = [((float(p) / float(window[0])) - 1) for p in window]\n",
    "        normalised_data.append(normalised_window)\n",
    "    return normalised_data\n",
    "\n",
    "def predict_sequences_multiple(model, data, window_size, prediction_len):\n",
    "    #Predict sequence of 50 steps before shifting prediction run forward by 50 steps\n",
    "    prediction_seqs = []\n",
    "    for i in range(math.ceil(len(data)/prediction_len)):\n",
    "        curr_frame = data[i*prediction_len]\n",
    "        predicted = []\n",
    "        for j in range(prediction_len):\n",
    "            predicted.append(model.predict(curr_frame[newaxis,:,:])[0,0])\n",
    "            curr_frame = curr_frame[1:]\n",
    "            curr_frame = np.insert(curr_frame, [window_size-1], predicted[-1], axis=0)\n",
    "        prediction_seqs.append(predicted)\n",
    "    return prediction_seqs\n",
    "\n",
    "def plot_results_multiple(predicted_data, true_data, prediction_len):\n",
    "    fig = plt.figure(facecolor='white')\n",
    "    ax = fig.add_subplot(111)\n",
    "    ax.plot(true_data, label='True Data')\n",
    "    #Pad the list of predictions to shift it in the graph to it's correct start\n",
    "    for i, data in enumerate(predicted_data):\n",
    "        padding = [None for p in range(i * prediction_len)]\n",
    "        plt.plot(padding + data, label='Prediction')\n",
    "        plt.legend()\n",
    "    plt.show()"
   ]
  },
  {
   "cell_type": "code",
   "execution_count": 156,
   "metadata": {},
   "outputs": [],
   "source": [
    "train_df = pd.read_csv('PM_train.txt',sep=\" \",header=None)\n",
    "train_df.drop(train_df.columns[[26,27]],axis=1,inplace=True)\n",
    "train_df.columns = ['id', 'cycle', 'setting1', 'setting2', 'setting3', 's1', 's2', 's3',\n",
    "                     's4', 's5', 's6', 's7', 's8', 's9', 's10', 's11', 's12', 's13', 's14',\n",
    "                    's15', 's16', 's17', 's18', 's19', 's20', 's21']\n"
   ]
  },
  {
   "cell_type": "code",
   "execution_count": 136,
   "metadata": {},
   "outputs": [
    {
     "name": "stdout",
     "output_type": "stream",
     "text": [
      "{1: 192, 2: 287, 3: 179, 4: 189, 5: 269, 6: 188, 7: 259, 8: 150, 9: 201, 10: 222, 11: 240, 12: 170, 13: 163, 14: 180, 15: 207, 16: 209, 17: 276, 18: 195, 19: 158, 20: 234, 21: 195, 22: 202, 23: 168, 24: 147, 25: 230, 26: 199, 27: 156, 28: 165, 29: 163, 30: 194, 31: 234, 32: 191, 33: 200, 34: 195, 35: 181, 36: 158, 37: 170, 38: 194, 39: 128, 40: 188, 41: 216, 42: 196, 43: 207, 44: 192, 45: 158, 46: 256, 47: 214, 48: 231, 49: 215, 50: 198, 51: 213, 52: 213, 53: 195, 54: 257, 55: 193, 56: 275, 57: 137, 58: 147, 59: 231, 60: 172, 61: 185, 62: 180, 63: 174, 64: 283, 65: 153, 66: 202, 67: 313, 68: 199, 69: 362, 70: 137, 71: 208, 72: 213, 73: 213, 74: 166, 75: 229, 76: 210, 77: 154, 78: 231, 79: 199, 80: 185, 81: 240, 82: 214, 83: 293, 84: 267, 85: 188, 86: 278, 87: 178, 88: 213, 89: 217, 90: 154, 91: 135, 92: 341, 93: 155, 94: 258, 95: 283, 96: 336, 97: 202, 98: 156, 99: 185, 100: 200}\n",
      "206.31\n"
     ]
    }
   ],
   "source": [
    "def find_life_cycles_of_machine(train_df):\n",
    "    dict_of_numbers = {}\n",
    "    for val in train_df['id']:\n",
    "        if val not in dict_of_numbers:\n",
    "            dict_of_numbers[val] = 1\n",
    "        else:\n",
    "            dict_of_numbers[val]+=1\n",
    "    print(dict_of_numbers)\n",
    "    find_average_life_cycle(dict_of_numbers,len(dict_of_numbers))\n",
    "    \n",
    "def find_average_life_cycle(dict_of_machines,machine_n):\n",
    "    sum_of_cycles = 0\n",
    "    for machine_id in dict_of_machines:\n",
    "        sum_of_cycles += dict_of_machines[machine_id]\n",
    "    print(sum_of_cycles/machine_n)\n",
    "    \n",
    "find_life_cycles_of_machine(train_df)"
   ]
  },
  {
   "cell_type": "code",
   "execution_count": 231,
   "metadata": {},
   "outputs": [],
   "source": [
    "#Take s7 coloumn and train based on only that coloumn \n",
    "#machine1_df = pd.DataFrame(train_df['s7'].head(192)) #training dataset\n",
    "#machine_df = pd.DataFrame(train_df[['cycle','s7']])[0:479]\n",
    "machine_df = pd.DataFrame(train_df['s7'][0:479]) #testing dataset\n",
    "#machine_dataset = machine_df.values\n",
    "#machine_dataset = machine_dataset.astype('float32')\n",
    "#print(machine_dataset)\n",
    "machine_df.to_csv('sensor_val.csv',header=None,index=None,sep=',')"
   ]
  },
  {
   "cell_type": "code",
   "execution_count": 216,
   "metadata": {},
   "outputs": [
    {
     "name": "stdout",
     "output_type": "stream",
     "text": [
      "<class 'numpy.ndarray'>\n"
     ]
    }
   ],
   "source": [
    "scaler = MinMaxScaler(feature_range=(0,1))\n",
    "machine_dataset = scaler.fit_transform(machine_dataset)"
   ]
  },
  {
   "cell_type": "code",
   "execution_count": 233,
   "metadata": {},
   "outputs": [
    {
     "data": {
      "text/plain": [
       "(array([[[ 0.00000000e+00],\n",
       "         [ 4.52955991e-04],\n",
       "         [-6.52256627e-04],\n",
       "         ...,\n",
       "         [ 4.76509702e-03],\n",
       "         [ 3.06198250e-03],\n",
       "         [ 5.72536372e-03]],\n",
       " \n",
       "        [[ 0.00000000e+00],\n",
       "         [-1.23117034e-03],\n",
       "         [-7.42323291e-04],\n",
       "         ...,\n",
       "         [ 4.39962341e-03],\n",
       "         [ 4.16425261e-03],\n",
       "         [ 4.49015064e-03]],\n",
       " \n",
       "        [[ 0.00000000e+00],\n",
       "         [ 1.68517948e-03],\n",
       "         [ 1.46773697e-03],\n",
       "         ...,\n",
       "         [ 4.16764818e-03],\n",
       "         [ 4.81997572e-03],\n",
       "         [ 3.17103666e-03]],\n",
       " \n",
       "        ...,\n",
       " \n",
       "        [[ 0.00000000e+00],\n",
       "         [ 1.87915583e-03],\n",
       "         [ 3.61376120e-04],\n",
       "         ...,\n",
       "         [ 1.01185314e-03],\n",
       "         [ 1.17447239e-03],\n",
       "         [ 1.82494941e-03]],\n",
       " \n",
       "        [[ 0.00000000e+00],\n",
       "         [ 1.19314484e-03],\n",
       "         [ 7.23118085e-05],\n",
       "         ...,\n",
       "         [-2.87439439e-03],\n",
       "         [-4.51948803e-04],\n",
       "         [-2.40436763e-03]],\n",
       " \n",
       "        [[ 0.00000000e+00],\n",
       "         [ 1.10094392e-03],\n",
       "         [ 3.24868699e-04],\n",
       "         ...,\n",
       "         [-7.21930442e-05],\n",
       "         [-8.48268269e-04],\n",
       "         [-7.39978703e-04]]]), array([[[ 0.00000000e+00],\n",
       "         [ 4.32798947e-04],\n",
       "         [ 1.10003066e-03],\n",
       "         ...,\n",
       "         [ 2.52466052e-04],\n",
       "         [-8.83631183e-04],\n",
       "         [ 3.60665789e-04]],\n",
       " \n",
       "        [[ 0.00000000e+00],\n",
       "         [ 6.66943057e-04],\n",
       "         [-9.37325378e-04],\n",
       "         ...,\n",
       "         [-1.31586063e-03],\n",
       "         [-7.21019522e-05],\n",
       "         [ 4.50637201e-04]],\n",
       " \n",
       "        [[ 0.00000000e+00],\n",
       "         [-1.60319919e-03],\n",
       "         [-3.60269482e-05],\n",
       "         ...,\n",
       "         [-7.38552437e-04],\n",
       "         [-2.16161689e-04],\n",
       "         [-6.84512015e-04]],\n",
       " \n",
       "        ...,\n",
       " \n",
       "        [[ 0.00000000e+00],\n",
       "         [ 1.99123855e-03],\n",
       "         [ 6.51678071e-04],\n",
       "         ...,\n",
       "         [-2.35328192e-04],\n",
       "         [-1.73780819e-03],\n",
       "         [-8.32699757e-04]],\n",
       " \n",
       "        [[ 0.00000000e+00],\n",
       "         [-1.33689840e-03],\n",
       "         [-9.75574505e-04],\n",
       "         ...,\n",
       "         [-3.72163607e-03],\n",
       "         [-2.81832635e-03],\n",
       "         [-4.82367394e-03]],\n",
       " \n",
       "        [[ 0.00000000e+00],\n",
       "         [ 3.61807591e-04],\n",
       "         [ 4.88440247e-04],\n",
       "         ...,\n",
       "         [-1.48341112e-03],\n",
       "         [-3.49144325e-03],\n",
       "         [-2.11657441e-03]]]))"
      ]
     },
     "execution_count": 233,
     "metadata": {},
     "output_type": "execute_result"
    }
   ],
   "source": [
    "x_train,y_train,x_test,y_test = load_data('sensor_val.csv',50,True)\n",
    "'''\n",
    "train_size = int(len(machine_dataset)*0.40)+1\n",
    "test_size = len(machine_dataset)-train_size\n",
    "train = machine_dataset[:int(train_size), :]\n",
    "x_train = train[:,[0]]\n",
    "y_train = train[:,[1]]\n",
    "test = machine_dataset[int(train_size):,:]\n",
    "x_test = test[:,[0]]\n",
    "y_test = test[:,[0]]\n",
    "#np.random.shuffle(train)\n",
    "'''\n",
    "\n",
    "\n",
    "\n",
    "#train\n",
    "x_train,x_test"
   ]
  },
  {
   "cell_type": "code",
   "execution_count": 234,
   "metadata": {},
   "outputs": [
    {
     "name": "stderr",
     "output_type": "stream",
     "text": [
      "c:\\users\\amrit\\anaconda3\\envs\\py35\\lib\\site-packages\\ipykernel_launcher.py:3: UserWarning: The `input_dim` and `input_length` arguments in recurrent layers are deprecated. Use `input_shape` instead.\n",
      "  This is separate from the ipykernel package so we can avoid doing imports until\n",
      "c:\\users\\amrit\\anaconda3\\envs\\py35\\lib\\site-packages\\ipykernel_launcher.py:3: UserWarning: Update your `LSTM` call to the Keras 2 API: `LSTM(input_shape=(None, 1), units=50, return_sequences=True)`\n",
      "  This is separate from the ipykernel package so we can avoid doing imports until\n"
     ]
    },
    {
     "name": "stdout",
     "output_type": "stream",
     "text": [
      "compilation time: 0.07001113891601562\n"
     ]
    },
    {
     "name": "stderr",
     "output_type": "stream",
     "text": [
      "c:\\users\\amrit\\anaconda3\\envs\\py35\\lib\\site-packages\\ipykernel_launcher.py:12: UserWarning: Update your `Dense` call to the Keras 2 API: `Dense(units=1)`\n",
      "  if sys.path[0] == '':\n"
     ]
    }
   ],
   "source": [
    "model = Sequential()\n",
    "\n",
    "model.add(LSTM(input_dim=1,output_dim=50,return_sequences=True))\n",
    "\n",
    "model.add(Dropout(0.2))\n",
    "\n",
    "model.add(LSTM(100,\n",
    "              return_sequences=False))\n",
    "\n",
    "model.add(Dropout(0.2))\n",
    "\n",
    "model.add(Dense(output_dim=1))\n",
    "\n",
    "model.add(Activation('relu'))\n",
    "\n",
    "start = time.time()\n",
    "model.compile(loss='mse',optimizer='rmsprop')\n",
    "print('compilation time:',time.time()-start)"
   ]
  },
  {
   "cell_type": "code",
   "execution_count": 243,
   "metadata": {},
   "outputs": [
    {
     "name": "stderr",
     "output_type": "stream",
     "text": [
      "c:\\users\\amrit\\anaconda3\\envs\\py35\\lib\\site-packages\\keras\\models.py:942: UserWarning: The `nb_epoch` argument in `fit` has been renamed `epochs`.\n",
      "  warnings.warn('The `nb_epoch` argument in `fit` '\n"
     ]
    },
    {
     "name": "stdout",
     "output_type": "stream",
     "text": [
      "Epoch 1/5\n",
      "192/192 [==============================] - 0s 2ms/step - loss: 7.2293e-06\n",
      "Epoch 2/5\n",
      "192/192 [==============================] - 0s 2ms/step - loss: 7.2293e-06\n",
      "Epoch 3/5\n",
      "192/192 [==============================] - 0s 2ms/step - loss: 7.2293e-06\n",
      "Epoch 4/5\n",
      "192/192 [==============================] - 0s 3ms/step - loss: 7.2293e-06\n",
      "Epoch 5/5\n",
      "192/192 [==============================] - 0s 2ms/step - loss: 7.2293e-06\n"
     ]
    },
    {
     "data": {
      "text/plain": [
       "<keras.callbacks.History at 0x264ed5d0390>"
      ]
     },
     "execution_count": 243,
     "metadata": {},
     "output_type": "execute_result"
    }
   ],
   "source": [
    "model.fit(\n",
    "x_train,\n",
    "y_train,\n",
    "batch_size=128,\n",
    "nb_epoch=5)"
   ]
  },
  {
   "cell_type": "code",
   "execution_count": 251,
   "metadata": {
    "scrolled": true
   },
   "outputs": [
    {
     "data": {
      "image/png": "[encoded data removed]",
      "text/plain": [
       "<matplotlib.figure.Figure at 0x264ec393cf8>"
      ]
     },
     "metadata": {},
     "output_type": "display_data"
    }
   ],
   "source": [
    "#step4: Plot the predictions\n",
    "predictions = predict_sequences_multiple(model,x_test,50,50)\n",
    "plot_results_multiple(predictions,y_test,50)"
   ]
  },
  {
   "cell_type": "code",
   "execution_count": null,
   "metadata": {},
   "outputs": [],
   "source": []
  }
 ],
 "metadata": {
  "kernelspec": {
   "display_name": "Python 3",
   "language": "python",
   "name": "python3"
  },
  "language_info": {
   "codemirror_mode": {
    "name": "ipython",
    "version": 3
   },
   "file_extension": ".py",
   "mimetype": "text/x-python",
   "name": "python",
   "nbconvert_exporter": "python",
   "pygments_lexer": "ipython3",
   "version": "3.5.4"
  }
 },
 "nbformat": 4,
 "nbformat_minor": 2
}
